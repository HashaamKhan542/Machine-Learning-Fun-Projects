{
 "cells": [
  {
   "cell_type": "markdown",
   "id": "f13c2f5c-b46e-4b30-b7e3-329d226af7da",
   "metadata": {},
   "source": [
    "# Q1: Create Sensor Data Variables\n",
    "\n",
    "## Task Description\n",
    "Create three variables:\n",
    "- `Sensor_IDs`: five unique alphanumeric strings using hashing.\n",
    "- `Temperature_Readings`: random temperatures between -10°C and 50°C.\n",
    "- `Humidity_Levels`: random humidity levels between 10% and 100%.\n",
    "\n",
    "Print and validate the values."
   ]
  },
  {
   "cell_type": "code",
   "execution_count": 8,
   "id": "bce73179-604d-45b5-9006-bbad343eae9e",
   "metadata": {},
   "outputs": [
    {
     "name": "stdout",
     "output_type": "stream",
     "text": [
      "Sensor IDs: ['114bf79d95', 'c3da0afa98', '09d1ca2dda', '0f4361b33f', '16516291ab']\n",
      "Temperature Readings: [39.53, 32.7, 34.73, 49.34, -5.41]\n",
      "Humidity Levels: [43.38, 57.12, 17.95, 34.1, 88.4]\n"
     ]
    }
   ],
   "source": [
    "import random\n",
    "import hashlib\n",
    "\n",
    "# Function to generate a unique sensor ID using hashing\n",
    "def generate_sensor_id(index):\n",
    "    base_string = f\"sensor_{index}_{random.random()}\"\n",
    "    return hashlib.sha256(base_string.encode()).hexdigest()[:10]  # First 10 chars\n",
    "\n",
    "# Generate 5 unique Sensor IDs\n",
    "Sensor_IDs = [generate_sensor_id(i) for i in range(5)]\n",
    "\n",
    "# Generate random temperature values between -10 and 50\n",
    "Temperature_Readings = [round(random.uniform(-10, 50), 2) for _ in range(5)]\n",
    "\n",
    "# Generate random humidity levels between 10 and 100\n",
    "Humidity_Levels = [round(random.uniform(10, 100), 2) for _ in range(5)]\n",
    "\n",
    "# Print all values\n",
    "print(\"Sensor IDs:\", Sensor_IDs)\n",
    "print(\"Temperature Readings:\", Temperature_Readings)\n",
    "print(\"Humidity Levels:\", Humidity_Levels)\n"
   ]
  },
  {
   "cell_type": "markdown",
   "id": "a720ff18-107a-4a46-8dcb-4a1b638cf86d",
   "metadata": {},
   "source": [
    "# Q2: Create Sensor Data Dictionary and Filter Top Temperatures\n",
    "\n",
    "## 📝 Task Description\n",
    "\n",
    "- Create a dictionary where:\n",
    "  - Keys = Sensor IDs\n",
    "  - Values = Dictionary containing Temperature and Humidity\n",
    "- Write a function that:\n",
    "  - Filters sensors with temperatures above a threshold\n",
    "  - Sorts sensors by temperature in descending order\n",
    "  - Displays the top 3 highest temperatures\n",
    "  - Handles missing or invalid data"
   ]
  },
  {
   "cell_type": "code",
   "execution_count": 12,
   "id": "274bf495-6f06-4dcb-bb3d-ad4d700811e8",
   "metadata": {},
   "outputs": [
    {
     "name": "stdout",
     "output_type": "stream",
     "text": [
      "All Sensor Data:\n",
      "114bf79d95 => Temp: 39.53°C | Humidity: 43.38%\n",
      "c3da0afa98 => Temp: 32.7°C | Humidity: 57.12%\n",
      "09d1ca2dda => Temp: 34.73°C | Humidity: 17.95%\n",
      "0f4361b33f => Temp: 49.34°C | Humidity: 34.1%\n",
      "16516291ab => Temp: -5.41°C | Humidity: 88.4%\n",
      "\n",
      "Top 3 Sensors with Temperature Above Threshold:\n",
      "Sensor 0f4361b33f | Temp: 49.34°C | Humidity: 34.1%\n",
      "Sensor 114bf79d95 | Temp: 39.53°C | Humidity: 43.38%\n",
      "Sensor 09d1ca2dda | Temp: 34.73°C | Humidity: 17.95%\n"
     ]
    }
   ],
   "source": [
    "# Combine into a dictionary: Sensor_ID -> {Temperature, Humidity}\n",
    "sensor_data = {\n",
    "    sid: {\n",
    "        \"Temperature_Reading\": temp,\n",
    "        \"Humidity_Level\": humidity\n",
    "    }\n",
    "    for sid, temp, humidity in zip(Sensor_IDs, Temperature_Readings, Humidity_Levels)\n",
    "}\n",
    "# Display all sensor data\n",
    "print(\"All Sensor Data:\")\n",
    "for sid, data in sensor_data.items():\n",
    "    print(f\"{sid} => Temp: {data['Temperature_Reading']}°C | Humidity: {data['Humidity_Level']}%\")\n",
    "\n",
    "\n",
    "# --- Function to Filter and Display Top 3 Sensors ---\n",
    "\n",
    "def filter_top_sensors(data, temp_threshold):\n",
    "    # Step 1: Remove invalid or missing readings\n",
    "    valid_sensors = {\n",
    "        sid: info for sid, info in data.items()\n",
    "        if isinstance(info['Temperature_Reading'], (int, float)) and info['Temperature_Reading'] is not None\n",
    "    }\n",
    "\n",
    "    # Step 2: Filter based on temperature threshold\n",
    "    filtered = {\n",
    "        sid: info for sid, info in valid_sensors.items()\n",
    "        if info['Temperature_Reading'] > temp_threshold\n",
    "    }\n",
    "\n",
    "    # Step 3: Sort by temperature in descending order\n",
    "    sorted_sensors = dict(\n",
    "        sorted(filtered.items(), key=lambda x: x[1]['Temperature_Reading'], reverse=True)\n",
    "    )\n",
    "\n",
    "    # Step 4: Print top 3 highest temperatures\n",
    "    print(\"\\nTop 3 Sensors with Temperature Above Threshold:\")\n",
    "    for sid, info in list(sorted_sensors.items())[:3]:\n",
    "        print(f\"Sensor {sid} | Temp: {info['Temperature_Reading']}°C | Humidity: {info['Humidity_Level']}%\")\n",
    "\n",
    "# Example usage\n",
    "filter_top_sensors(sensor_data, temp_threshold=30)"
   ]
  },
  {
   "cell_type": "markdown",
   "id": "b20db482-d0e3-410e-8683-0faee5ab3676",
   "metadata": {},
   "source": [
    "# Q3: Air Quality Analysis and Recommendation\n",
    "\n",
    "## 📝 Task Summary\n",
    "\n",
    "- Create a variable `air_quality` that can take one of:  \n",
    "  `'Good'`, `'Moderate'`, `'Unhealthy'`, `'Hazardous'`\n",
    "- Write a function that:\n",
    "  - Recommends an activity based on the air quality value\n",
    "  - Handles unexpected inputs and prompts for correction\n",
    "- Simulate 10 random air quality readings:\n",
    "  - Count how many times each category appears\n",
    "  - Calculate the percentage of each\n",
    "  - Display the results in a structured format (dictionary/table)\n",
    "\n",
    "---"
   ]
  },
  {
   "cell_type": "code",
   "execution_count": 16,
   "id": "e09f4b1b-3e37-417d-8637-97c5efc3fee2",
   "metadata": {},
   "outputs": [
    {
     "name": "stdout",
     "output_type": "stream",
     "text": [
      "Random Air Quality Readings (10 samples):\n",
      "['Hazardous', 'Good', 'Good', 'Good', 'Good', 'Good', 'Moderate', 'Hazardous', 'Good', 'Moderate']\n",
      "\n",
      "Air Quality Occurrences:\n",
      "Good: 6 times (60.0%)\n",
      "Moderate: 2 times (20.0%)\n",
      "Unhealthy: 0 times (0.0%)\n",
      "Hazardous: 2 times (20.0%)\n"
     ]
    }
   ],
   "source": [
    "import random\n",
    "\n",
    "# List of valid air quality categories\n",
    "valid_categories = ['Good', 'Moderate', 'Unhealthy', 'Hazardous']\n",
    "\n",
    "# Activity recommendation function\n",
    "def recommend_activity(air_quality):\n",
    "    air_quality = air_quality.capitalize()  # Makes 'good', 'GOOD' into 'Good'\n",
    "    \n",
    "    if air_quality == 'Good':\n",
    "        return \"Great day! You can go for a walk or exercise outside.\"\n",
    "    elif air_quality == 'Moderate':\n",
    "        return \"It's okay to go outside, but don’t overdo physical activities.\"\n",
    "    elif air_quality == 'Unhealthy':\n",
    "        return \"Better to stay indoors, especially if you have health issues.\"\n",
    "    elif air_quality == 'Hazardous':\n",
    "        return \"Avoid going outside. Stay safe and use an air purifier if possible.\"\n",
    "    else:\n",
    "        return \"Invalid air quality. Please enter: Good, Moderate, Unhealthy, or Hazardous.\"\n",
    "\n",
    "# ✅ Simulate 10 random air quality readings\n",
    "random_readings = [random.choice(valid_categories) for _ in range(10)]\n",
    "\n",
    "# Count occurrences\n",
    "air_quality_count = {category: 0 for category in valid_categories}\n",
    "\n",
    "for reading in random_readings:\n",
    "    air_quality_count[reading] += 1\n",
    "\n",
    "# Calculate percentages\n",
    "air_quality_percent = {\n",
    "    category: round((count / 10) * 100, 1)\n",
    "    for category, count in air_quality_count.items()\n",
    "}\n",
    "\n",
    "\n",
    "print(\"Random Air Quality Readings (10 samples):\")\n",
    "print(random_readings)\n",
    "\n",
    "print(\"\\nAir Quality Occurrences:\")\n",
    "for category, count in air_quality_count.items():\n",
    "    print(f\"{category}: {count} times ({air_quality_percent[category]}%)\")\n"
   ]
  },
  {
   "cell_type": "markdown",
   "id": "6ad34946-4bb7-4189-8145-ecabb32ff1b9",
   "metadata": {},
   "source": [
    "# Q4: While Loop – Even and Odd Number Classifier\n",
    "\n",
    "## 📝 Task Summary\n",
    "\n",
    "- Continuously ask the user to input a number.\n",
    "- Stop when a **negative number** is entered.\n",
    "- Classify numbers into **even** or **odd**.\n",
    "- Avoid duplicates in both lists.\n",
    "- Handle invalid (non-numeric) input gracefully.\n",
    "- Save results to a file named `loop_log.txt`.\n"
   ]
  },
  {
   "cell_type": "code",
   "execution_count": 17,
   "id": "f9372bc8-19ef-4ba2-ac70-d5695d78faa2",
   "metadata": {},
   "outputs": [
    {
     "name": "stdout",
     "output_type": "stream",
     "text": [
      "Enter numbers one by one. Enter a negative number to stop.\n",
      "\n"
     ]
    },
    {
     "name": "stdin",
     "output_type": "stream",
     "text": [
      "Enter a number:  3\n",
      "Enter a number:  2\n",
      "Enter a number:  4\n",
      "Enter a number:  2\n",
      "Enter a number:  4\n",
      "Enter a number:  5\n",
      "Enter a number:  6\n",
      "Enter a number:  7\n",
      "Enter a number:  8\n",
      "Enter a number:  2\n",
      "Enter a number:  34\n",
      "Enter a number:  54\n",
      "Enter a number:  -1\n"
     ]
    },
    {
     "name": "stdout",
     "output_type": "stream",
     "text": [
      "Stopping input... saving results.\n",
      "\n",
      "✅ Numbers saved to loop_log.txt successfully.\n"
     ]
    }
   ],
   "source": [
    "even_numbers = []\n",
    "odd_numbers = []\n",
    "\n",
    "print(\"Enter numbers one by one. Enter a negative number to stop.\\n\")\n",
    "\n",
    "while True:\n",
    "    user_input = input(\"Enter a number: \")\n",
    "\n",
    "    # Check for valid integer input\n",
    "    if not user_input.lstrip(\"-\").isdigit():\n",
    "        print(\"❌ Please enter a valid number.\")\n",
    "        continue\n",
    "\n",
    "    number = int(user_input)\n",
    "\n",
    "    # Break loop on negative input\n",
    "    if number < 0:\n",
    "        print(\"Stopping input... saving results.\\n\")\n",
    "        break\n",
    "\n",
    "    # Add to even or odd list (no duplicates)\n",
    "    if number % 2 == 0:\n",
    "        if number not in even_numbers:\n",
    "            even_numbers.append(number)\n",
    "    else:\n",
    "        if number not in odd_numbers:\n",
    "            odd_numbers.append(number)\n",
    "\n",
    "# Write both lists to a text file\n",
    "with open(\"loop_log.txt\", \"w\") as file:\n",
    "    file.write(\"Even Numbers:\\n\")\n",
    "    file.write(\", \".join(map(str, even_numbers)) + \"\\n\\n\")\n",
    "    file.write(\"Odd Numbers:\\n\")\n",
    "    file.write(\", \".join(map(str, odd_numbers)) + \"\\n\")\n",
    "\n",
    "print(\"✅ Numbers saved to loop_log.txt successfully.\")\n"
   ]
  },
  {
   "cell_type": "markdown",
   "id": "87e692f8-fc02-4b30-a8c1-cdb884461d77",
   "metadata": {},
   "source": [
    "# Q5: Scientific Term – Even and Odd Characters\n",
    "\n",
    "## 📝 Task Summary\n",
    "\n",
    "- Ask the user to enter a **scientific term**.\n",
    "- Print all characters at:\n",
    "  - **Even positions** (index 0, 2, 4, ...)\n",
    "  - **Odd positions** (index 1, 3, 5, ...)\n",
    "- Do **not** use Python slicing (`[::]`).\n",
    "\n",
    "---"
   ]
  },
  {
   "cell_type": "code",
   "execution_count": 18,
   "id": "e7533bd4-0c46-496d-b171-5548600bde91",
   "metadata": {},
   "outputs": [
    {
     "name": "stdin",
     "output_type": "stream",
     "text": [
      "Enter a scientific term:  Homosapiens\n"
     ]
    },
    {
     "name": "stdout",
     "output_type": "stream",
     "text": [
      "Characters at even positions: Hmspes\n",
      "Characters at odd positions: ooain\n"
     ]
    }
   ],
   "source": [
    "# Ask user for a scientific term\n",
    "term = input(\"Enter a scientific term: \")\n",
    "\n",
    "even_chars = \"\"\n",
    "odd_chars = \"\"\n",
    "\n",
    "# Go through each character by position\n",
    "for index in range(len(term)):\n",
    "    if index % 2 == 0:\n",
    "        even_chars += term[index]\n",
    "    else:\n",
    "        odd_chars += term[index]\n",
    "\n",
    "print(\"Characters at even positions:\", even_chars)\n",
    "print(\"Characters at odd positions:\", odd_chars)\n"
   ]
  },
  {
   "cell_type": "markdown",
   "id": "8cb81345-4e70-4f7c-858e-75de9c2ae351",
   "metadata": {},
   "source": [
    "# Q6: WeatherData.csv – Mean Wind Speed Adjustment\n",
    "\n",
    "## 📝 Task Summary\n",
    "\n",
    "- Load the dataset `WeatherData.csv` using pandas.\n",
    "- Display:\n",
    "  - Total number of rows (weather stations)\n",
    "  - Total number of columns (parameters recorded)\n",
    "- Calculate the mean wind speed.\n",
    "- Subtract this mean from each wind speed value.\n",
    "- Display both the original and adjusted wind speed values.\n",
    "\n",
    "---"
   ]
  },
  {
   "cell_type": "code",
   "execution_count": 25,
   "id": "ce0bc878-0334-4d7f-bea4-2504d348cb4c",
   "metadata": {},
   "outputs": [
    {
     "name": "stdout",
     "output_type": "stream",
     "text": [
      "Number of rows (weather stations): 1000\n",
      "Number of columns (parameters): 7\n",
      "\n",
      "Original Wind Speed values:\n",
      "0    43.79\n",
      "1    17.41\n",
      "2     2.12\n",
      "3    12.39\n",
      "4    27.33\n",
      "Name: Wind_Speed_kmh, dtype: float64\n",
      "\n",
      "Mean Wind Speed: 23.55\n",
      "\n",
      "Adjusted Wind Speed values:\n",
      "   Wind_Speed_kmh  WindSpeed_Adjusted\n",
      "0           43.79            20.24154\n",
      "1           17.41            -6.13846\n",
      "2            2.12           -21.42846\n",
      "3           12.39           -11.15846\n",
      "4           27.33             3.78154\n"
     ]
    }
   ],
   "source": [
    "import pandas as pd\n",
    "\n",
    "# Step 1: Load the dataset\n",
    "df = pd.read_csv(\"WeatherData.csv\")\n",
    "\n",
    "# Step 2: Show shape of the dataset\n",
    "print(f\"Number of rows (weather stations): {df.shape[0]}\")\n",
    "print(f\"Number of columns (parameters): {df.shape[1]}\")\n",
    "\n",
    "# Step 3: Show original wind speed values\n",
    "print(\"\\nOriginal Wind Speed values:\")\n",
    "print(df[\"Wind_Speed_kmh\"].head())  # Show first 5 values\n",
    "\n",
    "# Step 4: Calculate mean wind speed\n",
    "mean_wind = df[\"Wind_Speed_kmh\"].mean()\n",
    "print(f\"\\nMean Wind Speed: {mean_wind:.2f}\")\n",
    "\n",
    "# Step 5: Subtract mean from all wind speed values\n",
    "df[\"WindSpeed_Adjusted\"] = df[\"Wind_Speed_kmh\"] - mean_wind\n",
    "\n",
    "# Step 6: Show modified values\n",
    "print(\"\\nAdjusted Wind Speed values:\")\n",
    "print(df[[\"Wind_Speed_kmh\", \"WindSpeed_Adjusted\"]].head())\n"
   ]
  },
  {
   "cell_type": "markdown",
   "id": "4fddb29a-e68a-47c1-858e-f16ca9ff4863",
   "metadata": {},
   "source": [
    "# Q7: Handling Missing Values – Imputation Techniques\n",
    "\n",
    "## 📝 Task Summary\n",
    "\n",
    "- Load `WeatherData.csv` using pandas.\n",
    "- Identify missing values in the dataset.\n",
    "- Choose **two different imputation methods** to handle them:\n",
    "  - **Mean imputation** for `Temperature`\n",
    "  - **Forward fill** for `Humidity`\n",
    "- Compare the distribution **before and after** imputation.\n",
    "- Save the cleaned dataset as `WeatherData_Cleaned.csv`.\n",
    "\n",
    "---"
   ]
  },
  {
   "cell_type": "code",
   "execution_count": 51,
   "id": "9f9f5421-f629-4869-903b-2c488e1cc281",
   "metadata": {},
   "outputs": [
    {
     "name": "stdout",
     "output_type": "stream",
     "text": [
      "\n",
      "Missing values in each column:\n",
      "Station_ID              0\n",
      "Temperature_C          50\n",
      "Humidity_%             50\n",
      "Wind_Speed_kmh          0\n",
      "Precipitation_mm        0\n",
      "Weather_Condition       0\n",
      "Unnamed: 6           1000\n",
      "dtype: int64\n"
     ]
    },
    {
     "name": "stderr",
     "output_type": "stream",
     "text": [
      "/var/folders/td/k6fvhfwd3pzft8bk6bhyz16m0000gn/T/ipykernel_8402/1808844565.py:16: FutureWarning: Series.fillna with 'method' is deprecated and will raise in a future version. Use obj.ffill() or obj.bfill() instead.\n",
      "  df[\"Humidity_%\"] = df[\"Humidity_%\"].fillna(method=\"ffill\")\n"
     ]
    },
    {
     "data": {
      "image/png": "[encoded data removed]",
      "text/plain": [
       "<Figure size 1200x500 with 2 Axes>"
      ]
     },
     "metadata": {},
     "output_type": "display_data"
    },
    {
     "name": "stdout",
     "output_type": "stream",
     "text": [
      "\n",
      "✅ Missing values handled and cleaned data saved to 'WeatherData_Cleaned.csv'.\n"
     ]
    }
   ],
   "source": [
    "import matplotlib.pyplot as plt\n",
    "\n",
    "# Step 1: Loading dataset\n",
    "df = pd.read_csv(\"WeatherData.csv\")\n",
    "\n",
    "# Step 2: Showing missing values\n",
    "print(\"\\nMissing values in each column:\")\n",
    "print(df.isnull().sum())\n",
    "\n",
    "# Step 3: Imputation Method 1 - Fill 'Temperature' with mean\n",
    "df[\"Temperature_before\"] = df[\"Temperature_C\"]  # Keep original for comparison\n",
    "df[\"Temperature_C\"] = df[\"Temperature_C\"].fillna(df[\"Temperature_C\"].mean())\n",
    "\n",
    "# Step 4: Imputation Method 2 - Forward fill 'Humidity'\n",
    "df[\"Humidity_before\"] = df[\"Humidity_%\"]  # Keep original\n",
    "df[\"Humidity_%\"] = df[\"Humidity_%\"].fillna(method=\"ffill\")\n",
    "\n",
    "plt.figure(figsize=(12, 5))\n",
    "# Temperature before and after\n",
    "plt.subplot(1, 2, 1)\n",
    "df[\"Temperature_before\"].hist(alpha=0.5, label='Before')\n",
    "df[\"Temperature_C\"].hist(alpha=0.5, label='After')\n",
    "plt.title(\"Temperature - Before vs After Imputation\")\n",
    "plt.legend()\n",
    "\n",
    "# Humidity before and after\n",
    "plt.subplot(1, 2, 2)\n",
    "df[\"Humidity_before\"].hist(alpha=0.5, label='Before')\n",
    "df[\"Humidity_%\"].hist(alpha=0.5, label='After')\n",
    "plt.title(\"Humidity - Before vs After Imputation\")\n",
    "plt.legend()\n",
    "\n",
    "plt.tight_layout()\n",
    "plt.show()\n",
    "\n",
    "\n",
    "# Step 6: Save cleaned dataset\n",
    "df.drop(columns=[\"Temperature_before\", \"Humidity_before\"], inplace=True)\n",
    "df.to_csv(\"WeatherData_Cleaned.csv\", index=False)\n",
    "\n",
    "print(\"\\n✅ Missing values handled and cleaned data saved to 'WeatherData_Cleaned.csv'.\")"
   ]
  },
  {
   "cell_type": "markdown",
   "id": "43026ddf-1f09-4924-b115-e444b8572e28",
   "metadata": {},
   "source": [
    "### 📊 Visual Comparison Summary\n",
    "\n",
    "- **Temperature Histogram:** You’ll notice a small spike near the mean value after imputation — this is expected with mean replacement.\n",
    "- **Humidity Histogram:** Forward fill keeps the general shape of the original distribution, but may slightly smoothen sudden dips caused by missing values.\n",
    "\n",
    "---\n",
    "\n",
    "### ✅ Conclusion\n",
    "\n",
    "Both methods are useful, but they should be chosen based on the nature of the data:\n",
    "\n",
    "| Feature     | Technique Used | Reason                        |\n",
    "|-------------|----------------|-------------------------------|\n",
    "| Temperature | Mean Imputation | Normally distributed data     |\n",
    "| Humidity    | Forward Fill    | Time-like gradual changes     |"
   ]
  },
  {
   "cell_type": "markdown",
   "id": "8c56a125-df31-42ef-8d0f-c6196e4906c5",
   "metadata": {},
   "source": [
    "# Q8: Encoding the `Weather_Condition` Column\n",
    "\n",
    "## 📝 Task Summary\n",
    "\n",
    "- Encode the categorical `Weather_Condition` column from `WeatherData.csv`.\n",
    "- Use both **Label Encoding** and **One-Hot Encoding**.\n",
    "- Save both encoded versions of the dataset.\n",
    "- Justify the choice of encoding techniques.\n"
   ]
  },
  {
   "cell_type": "code",
   "execution_count": 58,
   "id": "d5115c3c-9cf4-43b4-8ff1-5e844afee4b3",
   "metadata": {},
   "outputs": [
    {
     "name": "stdout",
     "output_type": "stream",
     "text": [
      "Unique weather conditions:\n",
      "['Stormy' 'Cloudy' 'Sunny' 'Rainy']\n",
      "\n",
      "Label Encoded Values:\n",
      "  Weather_Condition  Weather_Condition_Label\n",
      "0            Stormy                        2\n",
      "1            Cloudy                        0\n",
      "2             Sunny                        3\n",
      "3             Rainy                        1\n",
      "4            Stormy                        2\n",
      "\n",
      "One-Hot Encoded Columns:\n",
      "  Station_ID  Temperature_C  Humidity_%  Wind_Speed_kmh  Precipitation_mm  \\\n",
      "0      STN_1          21.60       80.01           43.79             25.21   \n",
      "1      STN_2          17.20       70.50           17.41              8.76   \n",
      "2      STN_3          26.96       53.35            2.12              1.11   \n",
      "3      STN_4          22.14       86.37           12.39             10.25   \n",
      "4      STN_5          12.52       86.81           27.33             23.13   \n",
      "\n",
      "  Weather_Condition  Unnamed: 6  Weather_Condition_Label  Weather_Cloudy  \\\n",
      "0            Stormy         NaN                        2           False   \n",
      "1            Cloudy         NaN                        0            True   \n",
      "2             Sunny         NaN                        3           False   \n",
      "3             Rainy         NaN                        1           False   \n",
      "4            Stormy         NaN                        2           False   \n",
      "\n",
      "   Weather_Rainy  Weather_Stormy  Weather_Sunny  \n",
      "0          False            True          False  \n",
      "1          False           False          False  \n",
      "2          False           False           True  \n",
      "3           True           False          False  \n",
      "4          False            True          False  \n",
      "\n",
      "✅ Encoding complete. Files saved.\n"
     ]
    }
   ],
   "source": [
    "\n",
    "# Load the cleaned weather dataset\n",
    "df = pd.read_csv(\"WeatherData_Cleaned.csv\")\n",
    "\n",
    "# Show unique values in the Weather_Condition column\n",
    "print(\"Unique weather conditions:\")\n",
    "print(df[\"Weather_Condition\"].unique())\n",
    "\n",
    "# Label Encoding\n",
    "df[\"Weather_Condition_Label\"] = df[\"Weather_Condition\"].astype(\"category\").cat.codes\n",
    "\n",
    "print(\"\\nLabel Encoded Values:\")\n",
    "print(df[[\"Weather_Condition\", \"Weather_Condition_Label\"]].head())\n",
    "\n",
    "# One-Hot Encoding\n",
    "one_hot_encoded = pd.get_dummies(df[\"Weather_Condition\"], prefix=\"Weather\")\n",
    "\n",
    "# Combine with original data\n",
    "df_with_onehot = pd.concat([df, one_hot_encoded], axis=1)\n",
    "\n",
    "# Display first few rows of new dataframe\n",
    "print(\"\\nOne-Hot Encoded Columns:\")\n",
    "print(df_with_onehot.head())\n",
    "\n",
    "# Save both versions (optional)\n",
    "df.to_csv(\"WeatherData_LabelEncoded.csv\", index=False)\n",
    "df_with_onehot.to_csv(\"WeatherData_OneHotEncoded.csv\", index=False)\n",
    "\n",
    "print(\"\\n✅ Encoding complete. Files saved.\")\n",
    "\n",
    "\n"
   ]
  },
  {
   "cell_type": "markdown",
   "id": "176ca8b0-1758-4cdb-b2ab-d50363ac31a6",
   "metadata": {},
   "source": [
    "## 🔍 Summary: Encoding the Weather_Condition Column\n",
    "\n",
    "In this task, we encoded the categorical column `Weather_Condition` using two different techniques:\n",
    "\n",
    "---\n",
    "\n",
    "### ✅ 1. Label Encoding\n",
    "\n",
    "- Converts categories into numeric labels (e.g., Sunny → 0, Rainy → 1).\n",
    "- **Simple and memory-efficient**.\n",
    "- Best used when:\n",
    "  - The categories have an **inherent order** (like Low, Medium, High) — though not in this case.\n",
    "- ⚠️ Not suitable for ML models that treat numbers as ranked or weighted unless the data is truly ordinal.\n",
    "\n",
    "---\n",
    "\n",
    "### ✅ 2. One-Hot Encoding\n",
    "\n",
    "- Converts each category into a **separate column** with 0s and 1s.\n",
    "- Best used when:\n",
    "  - Categories are **nominal** (no natural order), like weather types.\n",
    "  - You want to avoid giving false numerical meaning to the labels.\n",
    "- **Preferred for ML models like linear regression, logistic regression, or tree-based models**.\n",
    "\n",
    "---\n",
    "\n",
    "### ✅ Justification\n",
    "\n",
    "For `Weather_Condition`, one-hot encoding is more appropriate because:\n",
    "- The categories (e.g., Sunny, Rainy, Cloudy) are **nominal**, not ordered.\n",
    "- It avoids misinterpretation by the model that one weather condition is \"greater\" than another.\n",
    "\n",
    "However, label encoding was also performed for comparison or if needed by simpler models or algorithms that can handle categorical codes efficiently.\n",
    "\n",
    "---\n"
   ]
  },
  {
   "cell_type": "markdown",
   "id": "1b7636e0-9a50-4532-98e4-ae75602ab359",
   "metadata": {},
   "source": [
    "# Q9: Apply Min-Max Scaling and Analyze the Effect\n",
    "\n",
    "## 📝 Task Summary\n",
    "\n",
    "- Load the cleaned dataset `WeatherData_Cleaned.csv`.\n",
    "- Apply **Min-Max Scaling** to all numerical columns, excluding `Station_ID`.\n",
    "- Generate two visualizations:\n",
    "  - A side-by-side **histogram** of temperature before and after scaling.\n",
    "  - A **boxplot** of wind speed before and after scaling.\n",
    "- Analyze the effect of Min-Max Scaling on the data distribution.\n"
   ]
  },
  {
   "cell_type": "code",
   "execution_count": 67,
   "id": "ed2b141d-6483-4977-b1cd-f8bad4afb8e0",
   "metadata": {},
   "outputs": [
    {
     "name": "stderr",
     "output_type": "stream",
     "text": [
      "/Users/hashaamkhan/my_env/lib/python3.13/site-packages/sklearn/utils/_array_api.py:776: RuntimeWarning: All-NaN slice encountered\n",
      "  return xp.asarray(numpy.nanmin(X, axis=axis))\n",
      "/Users/hashaamkhan/my_env/lib/python3.13/site-packages/sklearn/utils/_array_api.py:793: RuntimeWarning: All-NaN slice encountered\n",
      "  return xp.asarray(numpy.nanmax(X, axis=axis))\n"
     ]
    },
    {
     "data": {
      "image/png": "[encoded data removed]",
      "text/plain": [
       "<Figure size 1000x400 with 2 Axes>"
      ]
     },
     "metadata": {},
     "output_type": "display_data"
    },
    {
     "name": "stderr",
     "output_type": "stream",
     "text": [
      "/var/folders/td/k6fvhfwd3pzft8bk6bhyz16m0000gn/T/ipykernel_8402/3517775341.py:40: MatplotlibDeprecationWarning: The 'labels' parameter of boxplot() has been renamed 'tick_labels' since Matplotlib 3.9; support for the old name will be dropped in 3.11.\n",
      "  plt.boxplot([df[\"WindSpeed_Original\"], df[\"Wind_Speed_kmh\"]], labels=[\"Before\", \"After\"])\n"
     ]
    },
    {
     "data": {
      "image/png": "[encoded data removed]",
      "text/plain": [
       "<Figure size 640x480 with 1 Axes>"
      ]
     },
     "metadata": {},
     "output_type": "display_data"
    }
   ],
   "source": [
    "\n",
    "from sklearn.preprocessing import MinMaxScaler\n",
    "\n",
    "# Step 1: Load the dataset\n",
    "df = pd.read_csv(\"WeatherData_Cleaned.csv\")\n",
    "\n",
    "# Step 2: Backup original temperature and wind speed\n",
    "df[\"Temperature_Original\"] = df[\"Temperature_C\"]\n",
    "df[\"WindSpeed_Original\"] = df[\"Wind_Speed_kmh\"]\n",
    "\n",
    "# Step 3: Select numeric columns to scale (excluding Station_ID)\n",
    "cols_to_scale = df.select_dtypes(include='number').columns\n",
    "cols_to_scale = [col for col in cols_to_scale if col != 'Station_ID']\n",
    "\n",
    "# Step 4: Apply Min-Max Scaling\n",
    "scaler = MinMaxScaler()\n",
    "df[cols_to_scale] = scaler.fit_transform(df[cols_to_scale])\n",
    "\n",
    "# Histogram - Temperature before and after scaling (side by side)\n",
    "plt.figure(figsize=(10, 4))\n",
    "\n",
    "# Before scaling\n",
    "plt.subplot(1, 2, 1)\n",
    "df[\"Temperature_Original\"].hist(bins=15, color=\"skyblue\", edgecolor=\"black\")\n",
    "plt.title(\"Temperature Before Scaling\")\n",
    "plt.xlabel(\"Temperature (°C)\")\n",
    "plt.ylabel(\"Count\")\n",
    "\n",
    "# After scaling\n",
    "plt.subplot(1, 2, 2)\n",
    "df[\"Temperature_C\"].hist(bins=15, color=\"orange\", edgecolor=\"black\")\n",
    "plt.title(\"Temperature After Min-Max Scaling\")\n",
    "plt.xlabel(\"Scaled Value\")\n",
    "plt.ylabel(\"Count\")\n",
    "\n",
    "plt.tight_layout()\n",
    "plt.show()\n",
    "\n",
    "# Step 6: Plot Boxplot of Wind Speed before and after scaling\n",
    "plt.subplot(1, 2, 2)\n",
    "plt.boxplot([df[\"WindSpeed_Original\"], df[\"Wind_Speed_kmh\"]], labels=[\"Before\", \"After\"])\n",
    "plt.title(\"Wind Speed - Boxplot Before vs After Scaling\")\n",
    "plt.ylabel(\"Wind Speed\")\n",
    "\n",
    "plt.tight_layout()\n",
    "plt.show()\n"
   ]
  },
  {
   "cell_type": "markdown",
   "id": "1343e8c0-b964-433e-a4ff-82f79853732c",
   "metadata": {},
   "source": [
    "## 🔍 Analysis: Effect of Min-Max Scaling on Distribution\n",
    "\n",
    "Min-Max Scaling transformed all numerical values (excluding Station_ID) to a range between 0 and 1 without changing the shape of the distributions. The histogram of temperature before and after scaling shows that the overall distribution remains consistent—only the scale is adjusted. Similarly, the wind speed boxplot demonstrates that while the absolute values were compressed, the relative spacing and presence of outliers were preserved. This scaling is particularly useful for machine learning models that are sensitive to the magnitude of features, such as distance-based or gradient-based algorithms.\n"
   ]
  }
 ],
 "metadata": {
  "kernelspec": {
   "display_name": "Python (my_env)",
   "language": "python",
   "name": "my_env"
  },
  "language_info": {
   "codemirror_mode": {
    "name": "ipython",
    "version": 3
   },
   "file_extension": ".py",
   "mimetype": "text/x-python",
   "name": "python",
   "nbconvert_exporter": "python",
   "pygments_lexer": "ipython3",
   "version": "3.13.2"
  }
 },
 "nbformat": 4,
 "nbformat_minor": 5
}
